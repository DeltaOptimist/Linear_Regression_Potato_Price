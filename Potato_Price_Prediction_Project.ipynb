{
  "nbformat": 4,
  "nbformat_minor": 0,
  "metadata": {
    "kernelspec": {
      "display_name": "Python 3",
      "language": "python",
      "name": "python3"
    },
    "language_info": {
      "codemirror_mode": {
        "name": "ipython",
        "version": 3
      },
      "file_extension": ".py",
      "mimetype": "text/x-python",
      "name": "python",
      "nbconvert_exporter": "python",
      "pygments_lexer": "ipython3",
      "version": "3.7.4"
    },
    "colab": {
      "name": "Potato_Price_Prediction_Project.ipynb",
      "provenance": []
    }
  },
  "cells": [
    {
      "cell_type": "markdown",
      "metadata": {
        "id": "rpoRVeJ7nVNS"
      },
      "source": [
        "# This is a beginner ML project for understanding the ML regression model working principle (potato pricing prediction project)"
      ]
    },
    {
      "cell_type": "markdown",
      "metadata": {
        "id": "Zym94JMYnVNT"
      },
      "source": [
        "# Important module and library"
      ]
    },
    {
      "cell_type": "code",
      "metadata": {
        "id": "h8wM0ViSnVNU"
      },
      "source": [
        "#Important module and library  to run the program \n",
        "import pandas as pd\n",
        "import numpy as np\n",
        "import matplotlib.pyplot as plt\n",
        "from sklearn.linear_model import LinearRegression"
      ],
      "execution_count": 1,
      "outputs": []
    },
    {
      "cell_type": "markdown",
      "metadata": {
        "id": "R4RwLBOanVNV"
      },
      "source": [
        "# Load the dataset"
      ]
    },
    {
      "cell_type": "code",
      "metadata": {
        "colab": {
          "base_uri": "https://localhost:8080/",
          "height": 359
        },
        "id": "TGvbxTqVnVNV",
        "outputId": "dd255fac-ae6a-4d94-a973-66f01c927add"
      },
      "source": [
        "df = pd.read_csv(\"/content/PotatoPrice.csv\") #df for dataframe,read the data from the csv data file\n",
        "df"
      ],
      "execution_count": 2,
      "outputs": [
        {
          "output_type": "execute_result",
          "data": {
            "text/html": [
              "<div>\n",
              "<style scoped>\n",
              "    .dataframe tbody tr th:only-of-type {\n",
              "        vertical-align: middle;\n",
              "    }\n",
              "\n",
              "    .dataframe tbody tr th {\n",
              "        vertical-align: top;\n",
              "    }\n",
              "\n",
              "    .dataframe thead th {\n",
              "        text-align: right;\n",
              "    }\n",
              "</style>\n",
              "<table border=\"1\" class=\"dataframe\">\n",
              "  <thead>\n",
              "    <tr style=\"text-align: right;\">\n",
              "      <th></th>\n",
              "      <th>potato_kg</th>\n",
              "      <th>price</th>\n",
              "    </tr>\n",
              "  </thead>\n",
              "  <tbody>\n",
              "    <tr>\n",
              "      <th>0</th>\n",
              "      <td>1</td>\n",
              "      <td>10</td>\n",
              "    </tr>\n",
              "    <tr>\n",
              "      <th>1</th>\n",
              "      <td>2</td>\n",
              "      <td>20</td>\n",
              "    </tr>\n",
              "    <tr>\n",
              "      <th>2</th>\n",
              "      <td>3</td>\n",
              "      <td>25</td>\n",
              "    </tr>\n",
              "    <tr>\n",
              "      <th>3</th>\n",
              "      <td>4</td>\n",
              "      <td>40</td>\n",
              "    </tr>\n",
              "    <tr>\n",
              "      <th>4</th>\n",
              "      <td>5</td>\n",
              "      <td>55</td>\n",
              "    </tr>\n",
              "    <tr>\n",
              "      <th>5</th>\n",
              "      <td>6</td>\n",
              "      <td>75</td>\n",
              "    </tr>\n",
              "    <tr>\n",
              "      <th>6</th>\n",
              "      <td>7</td>\n",
              "      <td>90</td>\n",
              "    </tr>\n",
              "    <tr>\n",
              "      <th>7</th>\n",
              "      <td>8</td>\n",
              "      <td>100</td>\n",
              "    </tr>\n",
              "    <tr>\n",
              "      <th>8</th>\n",
              "      <td>9</td>\n",
              "      <td>115</td>\n",
              "    </tr>\n",
              "    <tr>\n",
              "      <th>9</th>\n",
              "      <td>10</td>\n",
              "      <td>120</td>\n",
              "    </tr>\n",
              "  </tbody>\n",
              "</table>\n",
              "</div>"
            ],
            "text/plain": [
              "   potato_kg  price\n",
              "0          1     10\n",
              "1          2     20\n",
              "2          3     25\n",
              "3          4     40\n",
              "4          5     55\n",
              "5          6     75\n",
              "6          7     90\n",
              "7          8    100\n",
              "8          9    115\n",
              "9         10    120"
            ]
          },
          "metadata": {
            "tags": []
          },
          "execution_count": 2
        }
      ]
    },
    {
      "cell_type": "markdown",
      "metadata": {
        "id": "qauort4_nVNX"
      },
      "source": [
        "# Visualization data in graphical representation(Not necessary, but helps to understand the dataset)"
      ]
    },
    {
      "cell_type": "code",
      "metadata": {
        "scrolled": true,
        "colab": {
          "base_uri": "https://localhost:8080/",
          "height": 296
        },
        "id": "vvNfpdnnnVNY",
        "outputId": "599063a9-bfb8-4289-b6f8-68954f3698a3"
      },
      "source": [
        "# For the data visualization \n",
        "%matplotlib inline\n",
        "plt.xlabel('Potato in kilogram(kg)')\n",
        "plt.ylabel('price in Taka')\n",
        "plt.scatter(df.potato_kg, df.price)"
      ],
      "execution_count": 3,
      "outputs": [
        {
          "output_type": "execute_result",
          "data": {
            "text/plain": [
              "<matplotlib.collections.PathCollection at 0x7f046dd61b90>"
            ]
          },
          "metadata": {
            "tags": []
          },
          "execution_count": 3
        },
        {
          "output_type": "display_data",
          "data": {
            "image/png": "[encoded data removed]",
            "text/plain": [
              "<Figure size 432x288 with 1 Axes>"
            ]
          },
          "metadata": {
            "tags": [],
            "needs_background": "light"
          }
        }
      ]
    },
    {
      "cell_type": "code",
      "metadata": {
        "id": "HkfPPwVbnVNZ"
      },
      "source": [
        "X = df[['potato_kg']] #since x have to be two dimentional or 2D array. So [[]]"
      ],
      "execution_count": 4,
      "outputs": []
    },
    {
      "cell_type": "code",
      "metadata": {
        "id": "CsamlEVPnVNZ"
      },
      "source": [
        "y = df['price']"
      ],
      "execution_count": 5,
      "outputs": []
    },
    {
      "cell_type": "markdown",
      "metadata": {
        "id": "jbpL4QnpnVNa"
      },
      "source": [
        "# Split Dataset for Train and Test"
      ]
    },
    {
      "cell_type": "code",
      "metadata": {
        "id": "WGms11QbnVNa"
      },
      "source": [
        "from sklearn.model_selection import train_test_split\n",
        "X_train, X_test, y_train, y_test = train_test_split(X,y,test_size=0.2)\n",
        "\n",
        "#X_train, X_test, y_train, y_test = train_test_split(X,y,test_size=0.3,random_state=10) \n",
        "#if you use \"random_state=10\" then the smaple will be same all the time\n"
      ],
      "execution_count": 6,
      "outputs": []
    },
    {
      "cell_type": "code",
      "metadata": {
        "colab": {
          "base_uri": "https://localhost:8080/",
          "height": 297
        },
        "id": "oFS1IZDonVNa",
        "outputId": "15192067-712b-4a93-a00a-b6a89be436b5"
      },
      "source": [
        "X_train"
      ],
      "execution_count": 7,
      "outputs": [
        {
          "output_type": "execute_result",
          "data": {
            "text/html": [
              "<div>\n",
              "<style scoped>\n",
              "    .dataframe tbody tr th:only-of-type {\n",
              "        vertical-align: middle;\n",
              "    }\n",
              "\n",
              "    .dataframe tbody tr th {\n",
              "        vertical-align: top;\n",
              "    }\n",
              "\n",
              "    .dataframe thead th {\n",
              "        text-align: right;\n",
              "    }\n",
              "</style>\n",
              "<table border=\"1\" class=\"dataframe\">\n",
              "  <thead>\n",
              "    <tr style=\"text-align: right;\">\n",
              "      <th></th>\n",
              "      <th>potato_kg</th>\n",
              "    </tr>\n",
              "  </thead>\n",
              "  <tbody>\n",
              "    <tr>\n",
              "      <th>1</th>\n",
              "      <td>2</td>\n",
              "    </tr>\n",
              "    <tr>\n",
              "      <th>7</th>\n",
              "      <td>8</td>\n",
              "    </tr>\n",
              "    <tr>\n",
              "      <th>6</th>\n",
              "      <td>7</td>\n",
              "    </tr>\n",
              "    <tr>\n",
              "      <th>0</th>\n",
              "      <td>1</td>\n",
              "    </tr>\n",
              "    <tr>\n",
              "      <th>9</th>\n",
              "      <td>10</td>\n",
              "    </tr>\n",
              "    <tr>\n",
              "      <th>8</th>\n",
              "      <td>9</td>\n",
              "    </tr>\n",
              "    <tr>\n",
              "      <th>4</th>\n",
              "      <td>5</td>\n",
              "    </tr>\n",
              "    <tr>\n",
              "      <th>2</th>\n",
              "      <td>3</td>\n",
              "    </tr>\n",
              "  </tbody>\n",
              "</table>\n",
              "</div>"
            ],
            "text/plain": [
              "   potato_kg\n",
              "1          2\n",
              "7          8\n",
              "6          7\n",
              "0          1\n",
              "9         10\n",
              "8          9\n",
              "4          5\n",
              "2          3"
            ]
          },
          "metadata": {
            "tags": []
          },
          "execution_count": 7
        }
      ]
    },
    {
      "cell_type": "code",
      "metadata": {
        "colab": {
          "base_uri": "https://localhost:8080/",
          "height": 111
        },
        "id": "-QQWJ_k6nVNb",
        "outputId": "d4819c68-5656-44eb-e504-1cb83a818da2"
      },
      "source": [
        "X_test"
      ],
      "execution_count": 8,
      "outputs": [
        {
          "output_type": "execute_result",
          "data": {
            "text/html": [
              "<div>\n",
              "<style scoped>\n",
              "    .dataframe tbody tr th:only-of-type {\n",
              "        vertical-align: middle;\n",
              "    }\n",
              "\n",
              "    .dataframe tbody tr th {\n",
              "        vertical-align: top;\n",
              "    }\n",
              "\n",
              "    .dataframe thead th {\n",
              "        text-align: right;\n",
              "    }\n",
              "</style>\n",
              "<table border=\"1\" class=\"dataframe\">\n",
              "  <thead>\n",
              "    <tr style=\"text-align: right;\">\n",
              "      <th></th>\n",
              "      <th>potato_kg</th>\n",
              "    </tr>\n",
              "  </thead>\n",
              "  <tbody>\n",
              "    <tr>\n",
              "      <th>5</th>\n",
              "      <td>6</td>\n",
              "    </tr>\n",
              "    <tr>\n",
              "      <th>3</th>\n",
              "      <td>4</td>\n",
              "    </tr>\n",
              "  </tbody>\n",
              "</table>\n",
              "</div>"
            ],
            "text/plain": [
              "   potato_kg\n",
              "5          6\n",
              "3          4"
            ]
          },
          "metadata": {
            "tags": []
          },
          "execution_count": 8
        }
      ]
    },
    {
      "cell_type": "code",
      "metadata": {
        "colab": {
          "base_uri": "https://localhost:8080/"
        },
        "id": "hgIFyKnFnVNb",
        "outputId": "15df959e-60de-40b6-d187-45fbc29abb21"
      },
      "source": [
        "y_train"
      ],
      "execution_count": 9,
      "outputs": [
        {
          "output_type": "execute_result",
          "data": {
            "text/plain": [
              "1     20\n",
              "7    100\n",
              "6     90\n",
              "0     10\n",
              "9    120\n",
              "8    115\n",
              "4     55\n",
              "2     25\n",
              "Name: price, dtype: int64"
            ]
          },
          "metadata": {
            "tags": []
          },
          "execution_count": 9
        }
      ]
    },
    {
      "cell_type": "code",
      "metadata": {
        "colab": {
          "base_uri": "https://localhost:8080/"
        },
        "id": "uXSElqcBnVNb",
        "outputId": "eb903a51-19f7-4332-ab63-082e1f0191ad"
      },
      "source": [
        "y_test"
      ],
      "execution_count": 10,
      "outputs": [
        {
          "output_type": "execute_result",
          "data": {
            "text/plain": [
              "5    75\n",
              "3    40\n",
              "Name: price, dtype: int64"
            ]
          },
          "metadata": {
            "tags": []
          },
          "execution_count": 10
        }
      ]
    },
    {
      "cell_type": "markdown",
      "metadata": {
        "id": "a6zJYy58nVNc"
      },
      "source": [
        "# Train dataset using model/algorithm "
      ]
    },
    {
      "cell_type": "code",
      "metadata": {
        "colab": {
          "base_uri": "https://localhost:8080/"
        },
        "id": "RYuUS85-nVNc",
        "outputId": "0564e6ec-2828-48be-aa6f-f61fc301ff9d"
      },
      "source": [
        "# use the regression model for the dataset\n",
        "reg=LinearRegression() #creat the object for the regression\n",
        "reg.fit(X_train, y_train)  #pass the data through the model, reg.fit(1st argument, 2nd argument);\n",
        "            #1st argument have to be two dimentional or 2D array\n",
        "            #2nd argument have to be y axis or the output, since y=mx+c"
      ],
      "execution_count": 11,
      "outputs": [
        {
          "output_type": "execute_result",
          "data": {
            "text/plain": [
              "LinearRegression(copy_X=True, fit_intercept=True, n_jobs=None, normalize=False)"
            ]
          },
          "metadata": {
            "tags": []
          },
          "execution_count": 11
        }
      ]
    },
    {
      "cell_type": "markdown",
      "metadata": {
        "id": "8qQSv1NdnVNc"
      },
      "source": [
        "# Predict"
      ]
    },
    {
      "cell_type": "code",
      "metadata": {
        "colab": {
          "base_uri": "https://localhost:8080/"
        },
        "id": "6IU26LCTnVNd",
        "outputId": "2e73bb33-607d-4976-b1fb-c65a03e6abea"
      },
      "source": [
        "reg.predict(X_test)"
      ],
      "execution_count": 12,
      "outputs": [
        {
          "output_type": "execute_result",
          "data": {
            "text/plain": [
              "array([71.83098592, 45.39906103])"
            ]
          },
          "metadata": {
            "tags": []
          },
          "execution_count": 12
        }
      ]
    },
    {
      "cell_type": "code",
      "metadata": {
        "colab": {
          "base_uri": "https://localhost:8080/"
        },
        "id": "hzZgFCyinVNd",
        "outputId": "445f2272-f2d2-4a4b-b65f-61310671a855"
      },
      "source": [
        "y_test"
      ],
      "execution_count": 13,
      "outputs": [
        {
          "output_type": "execute_result",
          "data": {
            "text/plain": [
              "5    75\n",
              "3    40\n",
              "Name: price, dtype: int64"
            ]
          },
          "metadata": {
            "tags": []
          },
          "execution_count": 13
        }
      ]
    },
    {
      "cell_type": "markdown",
      "metadata": {
        "id": "qGTPAHoknVNd"
      },
      "source": [
        "# Accuracy of The Model"
      ]
    },
    {
      "cell_type": "code",
      "metadata": {
        "colab": {
          "base_uri": "https://localhost:8080/"
        },
        "id": "aBRZYkV8nVNe",
        "outputId": "b75e08bd-36b6-4110-f631-522285b8277b"
      },
      "source": [
        "#We will find the accuracy of this model(our model was liner regression model) for our dataset\n",
        "reg.score(X_test, y_test)"
      ],
      "execution_count": 14,
      "outputs": [
        {
          "output_type": "execute_result",
          "data": {
            "text/plain": [
              "0.9360122280744608"
            ]
          },
          "metadata": {
            "tags": []
          },
          "execution_count": 14
        }
      ]
    },
    {
      "cell_type": "markdown",
      "metadata": {
        "id": "N3TbBV8hnVNe"
      },
      "source": [
        "# predict the output manually "
      ]
    },
    {
      "cell_type": "code",
      "metadata": {
        "colab": {
          "base_uri": "https://localhost:8080/"
        },
        "id": "HCxxcuW9nVNe",
        "outputId": "7aa02935-d42a-4153-8bb8-3cdc3a73f4c7"
      },
      "source": [
        "# Give any unknown potato kilogram value,to know the price\n",
        "#(N.B: the potato kilogram value have to be any value upto 1,for the decent prediction. Since our fitted data potato_kg range is 1 to 7)\n",
        "reg.predict([[1.1505659]]) "
      ],
      "execution_count": 15,
      "outputs": [
        {
          "output_type": "execute_result",
          "data": {
            "text/plain": [
              "array([7.74104699])"
            ]
          },
          "metadata": {
            "tags": []
          },
          "execution_count": 15
        }
      ]
    },
    {
      "cell_type": "markdown",
      "metadata": {
        "id": "q-Elbt6PnVNe"
      },
      "source": [
        "# Take user input to know the potato price"
      ]
    },
    {
      "cell_type": "code",
      "metadata": {
        "colab": {
          "base_uri": "https://localhost:8080/"
        },
        "id": "SofvyHctnVNf",
        "outputId": "89783f22-6621-4107-e51e-089250425c31"
      },
      "source": [
        "#Simple user interface to run our model the model\n",
        "x=input('To know the potato price,Enter the potato killogram upto 1 : ')\n",
        "\n",
        "import numpy as np \n",
        "array = np.array(x) #input converted into 1 dimentional array\n",
        "fvalu = array.astype(np.float) # 1 dimentional array into 1 dimentional float array\n",
        "fvalu_2D=([[fvalu]]) # 1 dimentional array to 2 dimentional array\n",
        "#print(fvalu_2D)\n",
        "\n",
        "my_prediction=reg.predict(fvalu_2D)\n",
        "#print(my_prediction)\n",
        "\n",
        "#price=np.asscalar(np.array(my_prediction)) #convert vector into scalar using this one line only\n",
        "\n",
        "#convert vector into scalar using below two lines\n",
        "price=np.array(my_prediction) \n",
        "price=price.item()\n",
        "\n",
        "print('So',x,' killogram potato price is =',price ,' Taka')"
      ],
      "execution_count": 17,
      "outputs": [
        {
          "output_type": "stream",
          "text": [
            "To know the potato price,Enter the potato killogram upto 1 : 190\n",
            "So 190  killogram potato price is = 2503.5680751173722  Taka\n"
          ],
          "name": "stdout"
        }
      ]
    },
    {
      "cell_type": "code",
      "metadata": {
        "id": "im1d_1Bpn7co"
      },
      "source": [
        ""
      ],
      "execution_count": null,
      "outputs": []
    }
  ]
}